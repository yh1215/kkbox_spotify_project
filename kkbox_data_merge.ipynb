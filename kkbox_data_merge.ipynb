{
 "cells": [
  {
   "cell_type": "code",
   "execution_count": 2,
   "metadata": {},
   "outputs": [],
   "source": [
    "import pandas as pd\n",
    "\n",
    "artist_2021 = pd.read_csv('kkbox_data/artists_2021.csv')\n",
    "artist_2022 = pd.read_csv('kkbox_data/artists_2022.csv')\n",
    "artist_2023 = pd.read_csv('kkbox_data/artists_2023.csv')\n",
    "artist_2024 = pd.read_csv('kkbox_data/artists_2024.csv')\n",
    "\n",
    "album_2021 = pd.read_csv('kkbox_data/albums_2021.csv')\n",
    "album_2022 = pd.read_csv('kkbox_data/albums_2022.csv')\n",
    "album_2023 = pd.read_csv('kkbox_data/albums_2023.csv')\n",
    "album_2024 = pd.read_csv('kkbox_data/albums_2024.csv')\n",
    "\n",
    "track_2021 = pd.read_csv('kkbox_data/tracks_2021.csv')\n",
    "track_2022 = pd.read_csv('kkbox_data/tracks_2022.csv')\n",
    "track_2023 = pd.read_csv('kkbox_data/tracks_2023.csv')\n",
    "track_2024 = pd.read_csv('kkbox_data/tracks_2024.csv')"
   ]
  },
  {
   "cell_type": "code",
   "execution_count": 3,
   "metadata": {},
   "outputs": [
    {
     "data": {
      "text/html": [
       "<div>\n",
       "<style scoped>\n",
       "    .dataframe tbody tr th:only-of-type {\n",
       "        vertical-align: middle;\n",
       "    }\n",
       "\n",
       "    .dataframe tbody tr th {\n",
       "        vertical-align: top;\n",
       "    }\n",
       "\n",
       "    .dataframe thead th {\n",
       "        text-align: right;\n",
       "    }\n",
       "</style>\n",
       "<table border=\"1\" class=\"dataframe\">\n",
       "  <thead>\n",
       "    <tr style=\"text-align: right;\">\n",
       "      <th></th>\n",
       "      <th>artist</th>\n",
       "      <th>artist_id</th>\n",
       "    </tr>\n",
       "  </thead>\n",
       "  <tbody>\n",
       "    <tr>\n",
       "      <th>0</th>\n",
       "      <td>五月天 (Mayday)</td>\n",
       "      <td>9XN-7yg5vg3gYnCdsM</td>\n",
       "    </tr>\n",
       "    <tr>\n",
       "      <th>1</th>\n",
       "      <td>盧廣仲 (Crowd Lu)</td>\n",
       "      <td>8qCONzjl89Yak9KFxZ</td>\n",
       "    </tr>\n",
       "    <tr>\n",
       "      <th>2</th>\n",
       "      <td>艾薇</td>\n",
       "      <td>SkYfuVHgT10-nfv3Tz</td>\n",
       "    </tr>\n",
       "    <tr>\n",
       "      <th>3</th>\n",
       "      <td>aMEI (張惠妹)</td>\n",
       "      <td>Ok6kf9NM0d0grGYNbl</td>\n",
       "    </tr>\n",
       "    <tr>\n",
       "      <th>4</th>\n",
       "      <td>周興哲 (Eric Chou)</td>\n",
       "      <td>TZghSjbKIgUdp9HKxN</td>\n",
       "    </tr>\n",
       "  </tbody>\n",
       "</table>\n",
       "</div>"
      ],
      "text/plain": [
       "            artist           artist_id\n",
       "0     五月天 (Mayday)  9XN-7yg5vg3gYnCdsM\n",
       "1   盧廣仲 (Crowd Lu)  8qCONzjl89Yak9KFxZ\n",
       "2               艾薇  SkYfuVHgT10-nfv3Tz\n",
       "3       aMEI (張惠妹)  Ok6kf9NM0d0grGYNbl\n",
       "4  周興哲 (Eric Chou)  TZghSjbKIgUdp9HKxN"
      ]
     },
     "execution_count": 3,
     "metadata": {},
     "output_type": "execute_result"
    }
   ],
   "source": [
    "artist = pd.concat([artist_2021, artist_2022, artist_2023, artist_2024]).drop_duplicates()\n",
    "artist.head()"
   ]
  },
  {
   "cell_type": "code",
   "execution_count": 4,
   "metadata": {},
   "outputs": [
    {
     "data": {
      "text/plain": [
       "1962"
      ]
     },
     "execution_count": 4,
     "metadata": {},
     "output_type": "execute_result"
    }
   ],
   "source": [
    "len(artist)"
   ]
  },
  {
   "cell_type": "code",
   "execution_count": 5,
   "metadata": {},
   "outputs": [
    {
     "data": {
      "text/html": [
       "<div>\n",
       "<style scoped>\n",
       "    .dataframe tbody tr th:only-of-type {\n",
       "        vertical-align: middle;\n",
       "    }\n",
       "\n",
       "    .dataframe tbody tr th {\n",
       "        vertical-align: top;\n",
       "    }\n",
       "\n",
       "    .dataframe thead th {\n",
       "        text-align: right;\n",
       "    }\n",
       "</style>\n",
       "<table border=\"1\" class=\"dataframe\">\n",
       "  <thead>\n",
       "    <tr style=\"text-align: right;\">\n",
       "      <th></th>\n",
       "      <th>name</th>\n",
       "      <th>album_id</th>\n",
       "      <th>release_date</th>\n",
       "    </tr>\n",
       "  </thead>\n",
       "  <tbody>\n",
       "    <tr>\n",
       "      <th>0</th>\n",
       "      <td>因為你 所以我</td>\n",
       "      <td>0le7fKde-BNMwoAst3</td>\n",
       "      <td>2020-12-25</td>\n",
       "    </tr>\n",
       "    <tr>\n",
       "      <th>1</th>\n",
       "      <td>刻在我心底的名字</td>\n",
       "      <td>4rzv06iAFoOyareMC7</td>\n",
       "      <td>2020-08-25</td>\n",
       "    </tr>\n",
       "    <tr>\n",
       "      <th>2</th>\n",
       "      <td>失重前幸福</td>\n",
       "      <td>XXDPJ346EjhjDZXb-W</td>\n",
       "      <td>2020-12-11</td>\n",
       "    </tr>\n",
       "    <tr>\n",
       "      <th>3</th>\n",
       "      <td>緩緩</td>\n",
       "      <td>Okl8SAlaH9M2s97GAv</td>\n",
       "      <td>2020-12-30</td>\n",
       "    </tr>\n",
       "    <tr>\n",
       "      <th>4</th>\n",
       "      <td>如果能幸福 - HBO Asia原創影集《戒指流浪記》片尾曲</td>\n",
       "      <td>D_QwkPGasaFcNVcZCz</td>\n",
       "      <td>2020-12-15</td>\n",
       "    </tr>\n",
       "  </tbody>\n",
       "</table>\n",
       "</div>"
      ],
      "text/plain": [
       "                             name            album_id release_date\n",
       "0                         因為你 所以我  0le7fKde-BNMwoAst3   2020-12-25\n",
       "1                        刻在我心底的名字  4rzv06iAFoOyareMC7   2020-08-25\n",
       "2                           失重前幸福  XXDPJ346EjhjDZXb-W   2020-12-11\n",
       "3                              緩緩  Okl8SAlaH9M2s97GAv   2020-12-30\n",
       "4  如果能幸福 - HBO Asia原創影集《戒指流浪記》片尾曲  D_QwkPGasaFcNVcZCz   2020-12-15"
      ]
     },
     "execution_count": 5,
     "metadata": {},
     "output_type": "execute_result"
    }
   ],
   "source": [
    "album = pd.concat([album_2021, album_2022, album_2023, album_2024]).drop_duplicates()\n",
    "album.head()"
   ]
  },
  {
   "cell_type": "code",
   "execution_count": 6,
   "metadata": {},
   "outputs": [
    {
     "data": {
      "text/plain": [
       "4558"
      ]
     },
     "execution_count": 6,
     "metadata": {},
     "output_type": "execute_result"
    }
   ],
   "source": [
    "len(album)"
   ]
  },
  {
   "cell_type": "code",
   "execution_count": 7,
   "metadata": {},
   "outputs": [
    {
     "data": {
      "text/html": [
       "<div>\n",
       "<style scoped>\n",
       "    .dataframe tbody tr th:only-of-type {\n",
       "        vertical-align: middle;\n",
       "    }\n",
       "\n",
       "    .dataframe tbody tr th {\n",
       "        vertical-align: top;\n",
       "    }\n",
       "\n",
       "    .dataframe thead th {\n",
       "        text-align: right;\n",
       "    }\n",
       "</style>\n",
       "<table border=\"1\" class=\"dataframe\">\n",
       "  <thead>\n",
       "    <tr style=\"text-align: right;\">\n",
       "      <th></th>\n",
       "      <th>name</th>\n",
       "      <th>id</th>\n",
       "      <th>duration</th>\n",
       "      <th>track_number</th>\n",
       "      <th>album_id</th>\n",
       "    </tr>\n",
       "  </thead>\n",
       "  <tbody>\n",
       "    <tr>\n",
       "      <th>0</th>\n",
       "      <td>因為你 所以我</td>\n",
       "      <td>5_DAFKxzMf04hZqXk4</td>\n",
       "      <td>281808.0</td>\n",
       "      <td>1</td>\n",
       "      <td>0le7fKde-BNMwoAst3</td>\n",
       "    </tr>\n",
       "    <tr>\n",
       "      <th>1</th>\n",
       "      <td>刻在我心底的名字 - 電影〈刻在你心底的名字〉主題曲</td>\n",
       "      <td>L_Aag3up_NyBpahTJG</td>\n",
       "      <td>320182.0</td>\n",
       "      <td>1</td>\n",
       "      <td>4rzv06iAFoOyareMC7</td>\n",
       "    </tr>\n",
       "    <tr>\n",
       "      <th>2</th>\n",
       "      <td>失重前幸福</td>\n",
       "      <td>XXONe3fIN4kbrmzJqh</td>\n",
       "      <td>222484.0</td>\n",
       "      <td>1</td>\n",
       "      <td>XXDPJ346EjhjDZXb-W</td>\n",
       "    </tr>\n",
       "    <tr>\n",
       "      <th>3</th>\n",
       "      <td>緩緩</td>\n",
       "      <td>P_c_y1B6adNriKJkm6</td>\n",
       "      <td>227343.0</td>\n",
       "      <td>1</td>\n",
       "      <td>Okl8SAlaH9M2s97GAv</td>\n",
       "    </tr>\n",
       "    <tr>\n",
       "      <th>4</th>\n",
       "      <td>如果能幸福 - HBO Asia原創影集《戒指流浪記》片尾曲</td>\n",
       "      <td>4kDxlI5PWkaL8-hS8a</td>\n",
       "      <td>259604.0</td>\n",
       "      <td>1</td>\n",
       "      <td>D_QwkPGasaFcNVcZCz</td>\n",
       "    </tr>\n",
       "  </tbody>\n",
       "</table>\n",
       "</div>"
      ],
      "text/plain": [
       "                             name                  id  duration  track_number  \\\n",
       "0                         因為你 所以我  5_DAFKxzMf04hZqXk4  281808.0             1   \n",
       "1      刻在我心底的名字 - 電影〈刻在你心底的名字〉主題曲  L_Aag3up_NyBpahTJG  320182.0             1   \n",
       "2                           失重前幸福  XXONe3fIN4kbrmzJqh  222484.0             1   \n",
       "3                              緩緩  P_c_y1B6adNriKJkm6  227343.0             1   \n",
       "4  如果能幸福 - HBO Asia原創影集《戒指流浪記》片尾曲  4kDxlI5PWkaL8-hS8a  259604.0             1   \n",
       "\n",
       "             album_id  \n",
       "0  0le7fKde-BNMwoAst3  \n",
       "1  4rzv06iAFoOyareMC7  \n",
       "2  XXDPJ346EjhjDZXb-W  \n",
       "3  Okl8SAlaH9M2s97GAv  \n",
       "4  D_QwkPGasaFcNVcZCz  "
      ]
     },
     "execution_count": 7,
     "metadata": {},
     "output_type": "execute_result"
    }
   ],
   "source": [
    "track = pd.concat([track_2021, track_2022, track_2023, track_2024]).drop_duplicates()\n",
    "track.head()"
   ]
  },
  {
   "cell_type": "code",
   "execution_count": 8,
   "metadata": {},
   "outputs": [
    {
     "data": {
      "text/plain": [
       "21055"
      ]
     },
     "execution_count": 8,
     "metadata": {},
     "output_type": "execute_result"
    }
   ],
   "source": [
    "len(track)"
   ]
  },
  {
   "cell_type": "code",
   "execution_count": 9,
   "metadata": {},
   "outputs": [],
   "source": [
    "artist.to_csv('kkbox_data/artists.csv', index=False)\n",
    "album.to_csv('kkbox_data/albums.csv', index=False)\n",
    "track.to_csv('kkbox_data/tracks.csv', index=False)"
   ]
  },
  {
   "cell_type": "code",
   "execution_count": null,
   "metadata": {},
   "outputs": [],
   "source": []
  },
  {
   "cell_type": "code",
   "execution_count": null,
   "metadata": {},
   "outputs": [],
   "source": []
  }
 ],
 "metadata": {
  "kernelspec": {
   "display_name": "base",
   "language": "python",
   "name": "python3"
  },
  "language_info": {
   "codemirror_mode": {
    "name": "ipython",
    "version": 3
   },
   "file_extension": ".py",
   "mimetype": "text/x-python",
   "name": "python",
   "nbconvert_exporter": "python",
   "pygments_lexer": "ipython3",
   "version": "3.12.2"
  }
 },
 "nbformat": 4,
 "nbformat_minor": 2
}
