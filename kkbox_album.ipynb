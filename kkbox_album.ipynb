{
 "cells": [
  {
   "cell_type": "code",
   "execution_count": 1,
   "metadata": {},
   "outputs": [
    {
     "data": {
      "text/html": [
       "<div>\n",
       "<style scoped>\n",
       "    .dataframe tbody tr th:only-of-type {\n",
       "        vertical-align: middle;\n",
       "    }\n",
       "\n",
       "    .dataframe tbody tr th {\n",
       "        vertical-align: top;\n",
       "    }\n",
       "\n",
       "    .dataframe thead th {\n",
       "        text-align: right;\n",
       "    }\n",
       "</style>\n",
       "<table border=\"1\" class=\"dataframe\">\n",
       "  <thead>\n",
       "    <tr style=\"text-align: right;\">\n",
       "      <th></th>\n",
       "      <th>rank</th>\n",
       "      <th>artist</th>\n",
       "      <th>artist_id</th>\n",
       "      <th>song_id</th>\n",
       "      <th>album_id</th>\n",
       "      <th>date</th>\n",
       "      <th>category</th>\n",
       "    </tr>\n",
       "  </thead>\n",
       "  <tbody>\n",
       "    <tr>\n",
       "      <th>0</th>\n",
       "      <td>1</td>\n",
       "      <td>五月天 (Mayday)</td>\n",
       "      <td>9XN-7yg5vg3gYnCdsM</td>\n",
       "      <td>5_DAFKxzMf04hZqXk4</td>\n",
       "      <td>0le7fKde-BNMwoAst3</td>\n",
       "      <td>2021-01-01</td>\n",
       "      <td>mandarin</td>\n",
       "    </tr>\n",
       "    <tr>\n",
       "      <th>1</th>\n",
       "      <td>2</td>\n",
       "      <td>盧廣仲 (Crowd Lu)</td>\n",
       "      <td>8qCONzjl89Yak9KFxZ</td>\n",
       "      <td>L_Aag3up_NyBpahTJG</td>\n",
       "      <td>4rzv06iAFoOyareMC7</td>\n",
       "      <td>2021-01-01</td>\n",
       "      <td>mandarin</td>\n",
       "    </tr>\n",
       "    <tr>\n",
       "      <th>2</th>\n",
       "      <td>3</td>\n",
       "      <td>任然</td>\n",
       "      <td>#</td>\n",
       "      <td>#</td>\n",
       "      <td>#</td>\n",
       "      <td>2021-01-01</td>\n",
       "      <td>mandarin</td>\n",
       "    </tr>\n",
       "    <tr>\n",
       "      <th>3</th>\n",
       "      <td>4</td>\n",
       "      <td>艾薇</td>\n",
       "      <td>SkYfuVHgT10-nfv3Tz</td>\n",
       "      <td>XXONe3fIN4kbrmzJqh</td>\n",
       "      <td>XXDPJ346EjhjDZXb-W</td>\n",
       "      <td>2021-01-01</td>\n",
       "      <td>mandarin</td>\n",
       "    </tr>\n",
       "    <tr>\n",
       "      <th>4</th>\n",
       "      <td>5</td>\n",
       "      <td>aMEI (張惠妹)</td>\n",
       "      <td>Ok6kf9NM0d0grGYNbl</td>\n",
       "      <td>P_c_y1B6adNriKJkm6</td>\n",
       "      <td>Okl8SAlaH9M2s97GAv</td>\n",
       "      <td>2021-01-01</td>\n",
       "      <td>mandarin</td>\n",
       "    </tr>\n",
       "  </tbody>\n",
       "</table>\n",
       "</div>"
      ],
      "text/plain": [
       "   rank          artist           artist_id             song_id  \\\n",
       "0     1    五月天 (Mayday)  9XN-7yg5vg3gYnCdsM  5_DAFKxzMf04hZqXk4   \n",
       "1     2  盧廣仲 (Crowd Lu)  8qCONzjl89Yak9KFxZ  L_Aag3up_NyBpahTJG   \n",
       "2     3              任然                   #                   #   \n",
       "3     4              艾薇  SkYfuVHgT10-nfv3Tz  XXONe3fIN4kbrmzJqh   \n",
       "4     5      aMEI (張惠妹)  Ok6kf9NM0d0grGYNbl  P_c_y1B6adNriKJkm6   \n",
       "\n",
       "             album_id        date  category  \n",
       "0  0le7fKde-BNMwoAst3  2021-01-01  mandarin  \n",
       "1  4rzv06iAFoOyareMC7  2021-01-01  mandarin  \n",
       "2                   #  2021-01-01  mandarin  \n",
       "3  XXDPJ346EjhjDZXb-W  2021-01-01  mandarin  \n",
       "4  Okl8SAlaH9M2s97GAv  2021-01-01  mandarin  "
      ]
     },
     "execution_count": 1,
     "metadata": {},
     "output_type": "execute_result"
    }
   ],
   "source": [
    "import pandas as pd\n",
    "\n",
    "df = pd.read_csv('kkbox_data/kkbox_data.csv')\n",
    "df.head()"
   ]
  },
  {
   "cell_type": "code",
   "execution_count": 2,
   "metadata": {},
   "outputs": [
    {
     "data": {
      "text/plain": [
       "0       0le7fKde-BNMwoAst3\n",
       "1       4rzv06iAFoOyareMC7\n",
       "3       XXDPJ346EjhjDZXb-W\n",
       "4       Okl8SAlaH9M2s97GAv\n",
       "5       D_QwkPGasaFcNVcZCz\n",
       "               ...        \n",
       "8788    HYj_0bnwU1EtWSkqVG\n",
       "8798    9a2zra3DUhQp-Ssz_o\n",
       "9075    Creg7E-5yWtogi7IJB\n",
       "9127    GlrhpaVAs-18Awx0VL\n",
       "9136    -rIWDmb51XBjJ7CTLp\n",
       "Name: album_id, Length: 368, dtype: object"
      ]
     },
     "execution_count": 2,
     "metadata": {},
     "output_type": "execute_result"
    }
   ],
   "source": [
    "album_id = df[df['album_id'] != '#']['album_id'].drop_duplicates()\n",
    "album_id"
   ]
  },
  {
   "cell_type": "code",
   "execution_count": 6,
   "metadata": {},
   "outputs": [],
   "source": [
    "# get token\n",
    "from kkbox_developer_sdk.auth_flow import KKBOXOAuth\n",
    "\n",
    "\n",
    "# Replace CLIENT_ID and CLIENT_SECRET with your ID and Secret\n",
    "auth = KKBOXOAuth('5e5e2e22f6e9940a106b3befde703767', 'd3aa398ae0aa2018b5205a6a98692a4d')\n",
    "token = auth.fetch_access_token_by_client_credentials()\n",
    "access_token = token.access_token"
   ]
  },
  {
   "cell_type": "code",
   "execution_count": 7,
   "metadata": {},
   "outputs": [],
   "source": [
    "import http.client\n",
    "import json\n",
    "\n",
    "conn = http.client.HTTPSConnection(\"api.kkbox.com\")\n",
    "headers = {\n",
    "    'accept': \"application/json\",\n",
    "    'authorization': f\"Bearer {access_token}\"\n",
    "}"
   ]
  },
  {
   "cell_type": "code",
   "execution_count": null,
   "metadata": {},
   "outputs": [],
   "source": [
    "conn.request(\"GET\", f\"/v1.1/albums/{id}?territory=TW\", headers=headers)\n",
    "\n",
    "res = conn.getresponse()\n",
    "data = res.read()\n",
    "\n",
    "with open('albums_id_data.json', 'w', encoding='utf-8') as f:\n",
    "    json.dump(json.loads(data), f, ensure_ascii=False, indent=4)\n",
    "    "
   ]
  },
  {
   "cell_type": "code",
   "execution_count": 8,
   "metadata": {},
   "outputs": [
    {
     "name": "stderr",
     "output_type": "stream",
     "text": [
      "100%|██████████| 368/368 [01:55<00:00,  3.19it/s]"
     ]
    },
    {
     "name": "stdout",
     "output_type": "stream",
     "text": [
      "                             name                  id\n",
      "0                         因為你 所以我  0le7fKde-BNMwoAst3\n",
      "1                        刻在我心底的名字  4rzv06iAFoOyareMC7\n",
      "2                           失重前幸福  XXDPJ346EjhjDZXb-W\n",
      "3                              緩緩  Okl8SAlaH9M2s97GAv\n",
      "4  如果能幸福 - HBO Asia原創影集《戒指流浪記》片尾曲  D_QwkPGasaFcNVcZCz\n"
     ]
    },
    {
     "name": "stderr",
     "output_type": "stream",
     "text": [
      "\n"
     ]
    }
   ],
   "source": [
    "from tqdm import tqdm\n",
    "import time\n",
    "\n",
    "# List to store the results\n",
    "results = []\n",
    "\n",
    "# Iterate through all album IDs\n",
    "for id in tqdm(album_id):\n",
    "    try:\n",
    "        conn.request(\"GET\", f\"/v1.1/albums/{id}?territory=TW\", headers=headers)\n",
    "        res = conn.getresponse()\n",
    "        data = res.read()\n",
    "        \n",
    "        # Parse the JSON response\n",
    "        album_data = json.loads(data.decode(\"utf-8\"))\n",
    "        \n",
    "        # Extract the required information\n",
    "        album_name = album_data.get(\"name\")\n",
    "        album_id = album_data.get(\"id\")\n",
    "        release_date =album_data.get(\"release_date\")\n",
    "        \n",
    "        # Append to results\n",
    "        results.append({\"name\": album_name, \"album_id\": album_id, \"release_date\": release_date})\n",
    "        \n",
    "        # Add a small delay to avoid overwhelming the API\n",
    "        time.sleep(0.1)\n",
    "    \n",
    "    except Exception as e:\n",
    "        print(f\"Error processing album ID {id}: {str(e)}\")\n",
    "\n",
    "# Create a DataFrame from the results\n",
    "df_albums = pd.DataFrame(results)"
   ]
  },
  {
   "cell_type": "code",
   "execution_count": 9,
   "metadata": {},
   "outputs": [
    {
     "data": {
      "text/html": [
       "<div>\n",
       "<style scoped>\n",
       "    .dataframe tbody tr th:only-of-type {\n",
       "        vertical-align: middle;\n",
       "    }\n",
       "\n",
       "    .dataframe tbody tr th {\n",
       "        vertical-align: top;\n",
       "    }\n",
       "\n",
       "    .dataframe thead th {\n",
       "        text-align: right;\n",
       "    }\n",
       "</style>\n",
       "<table border=\"1\" class=\"dataframe\">\n",
       "  <thead>\n",
       "    <tr style=\"text-align: right;\">\n",
       "      <th></th>\n",
       "      <th>name</th>\n",
       "      <th>id</th>\n",
       "    </tr>\n",
       "  </thead>\n",
       "  <tbody>\n",
       "    <tr>\n",
       "      <th>0</th>\n",
       "      <td>因為你 所以我</td>\n",
       "      <td>0le7fKde-BNMwoAst3</td>\n",
       "    </tr>\n",
       "    <tr>\n",
       "      <th>1</th>\n",
       "      <td>刻在我心底的名字</td>\n",
       "      <td>4rzv06iAFoOyareMC7</td>\n",
       "    </tr>\n",
       "    <tr>\n",
       "      <th>2</th>\n",
       "      <td>失重前幸福</td>\n",
       "      <td>XXDPJ346EjhjDZXb-W</td>\n",
       "    </tr>\n",
       "    <tr>\n",
       "      <th>3</th>\n",
       "      <td>緩緩</td>\n",
       "      <td>Okl8SAlaH9M2s97GAv</td>\n",
       "    </tr>\n",
       "    <tr>\n",
       "      <th>4</th>\n",
       "      <td>如果能幸福 - HBO Asia原創影集《戒指流浪記》片尾曲</td>\n",
       "      <td>D_QwkPGasaFcNVcZCz</td>\n",
       "    </tr>\n",
       "    <tr>\n",
       "      <th>...</th>\n",
       "      <td>...</td>\n",
       "      <td>...</td>\n",
       "    </tr>\n",
       "    <tr>\n",
       "      <th>363</th>\n",
       "      <td>Easy</td>\n",
       "      <td>HYj_0bnwU1EtWSkqVG</td>\n",
       "    </tr>\n",
       "    <tr>\n",
       "      <th>364</th>\n",
       "      <td>Say So</td>\n",
       "      <td>9a2zra3DUhQp-Ssz_o</td>\n",
       "    </tr>\n",
       "    <tr>\n",
       "      <th>365</th>\n",
       "      <td>Sorry</td>\n",
       "      <td>Creg7E-5yWtogi7IJB</td>\n",
       "    </tr>\n",
       "    <tr>\n",
       "      <th>366</th>\n",
       "      <td>我唱不了嘻哈</td>\n",
       "      <td>GlrhpaVAs-18Awx0VL</td>\n",
       "    </tr>\n",
       "    <tr>\n",
       "      <th>367</th>\n",
       "      <td>瞬間的第六感</td>\n",
       "      <td>-rIWDmb51XBjJ7CTLp</td>\n",
       "    </tr>\n",
       "  </tbody>\n",
       "</table>\n",
       "<p>368 rows × 2 columns</p>\n",
       "</div>"
      ],
      "text/plain": [
       "                               name                  id\n",
       "0                           因為你 所以我  0le7fKde-BNMwoAst3\n",
       "1                          刻在我心底的名字  4rzv06iAFoOyareMC7\n",
       "2                             失重前幸福  XXDPJ346EjhjDZXb-W\n",
       "3                                緩緩  Okl8SAlaH9M2s97GAv\n",
       "4    如果能幸福 - HBO Asia原創影集《戒指流浪記》片尾曲  D_QwkPGasaFcNVcZCz\n",
       "..                              ...                 ...\n",
       "363                            Easy  HYj_0bnwU1EtWSkqVG\n",
       "364                          Say So  9a2zra3DUhQp-Ssz_o\n",
       "365                           Sorry  Creg7E-5yWtogi7IJB\n",
       "366                          我唱不了嘻哈  GlrhpaVAs-18Awx0VL\n",
       "367                          瞬間的第六感  -rIWDmb51XBjJ7CTLp\n",
       "\n",
       "[368 rows x 2 columns]"
      ]
     },
     "execution_count": 9,
     "metadata": {},
     "output_type": "execute_result"
    }
   ],
   "source": [
    "df_albums"
   ]
  },
  {
   "cell_type": "code",
   "execution_count": null,
   "metadata": {},
   "outputs": [],
   "source": []
  }
 ],
 "metadata": {
  "kernelspec": {
   "display_name": "base",
   "language": "python",
   "name": "python3"
  },
  "language_info": {
   "codemirror_mode": {
    "name": "ipython",
    "version": 3
   },
   "file_extension": ".py",
   "mimetype": "text/x-python",
   "name": "python",
   "nbconvert_exporter": "python",
   "pygments_lexer": "ipython3",
   "version": "3.12.2"
  }
 },
 "nbformat": 4,
 "nbformat_minor": 2
}
